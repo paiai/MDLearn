{
 "cells": [
  {
   "cell_type": "code",
   "execution_count": 1,
   "metadata": {},
   "outputs": [
    {
     "name": "stderr",
     "output_type": "stream",
     "text": [
      "/Users/leesu/anaconda3/lib/python3.6/importlib/_bootstrap.py:205: RuntimeWarning: compiletime version 3.5 of module 'tensorflow.python.framework.fast_tensor_util' does not match runtime version 3.6\n",
      "  return f(*args, **kwds)\n"
     ]
    },
    {
     "name": "stdout",
     "output_type": "stream",
     "text": [
      "Extracting ./mnist/data/train-images-idx3-ubyte.gz\n",
      "Extracting ./mnist/data/train-labels-idx1-ubyte.gz\n",
      "Extracting ./mnist/data/t10k-images-idx3-ubyte.gz\n",
      "Extracting ./mnist/data/t10k-labels-idx1-ubyte.gz\n"
     ]
    }
   ],
   "source": [
    "import tensorflow as tf\n",
    "import numpy as np\n",
    "import matplotlib.pyplot as plt\n",
    "\n",
    "from tensorflow.examples.tutorials.mnist import input_data\n",
    "mnist = input_data.read_data_sets(\"./mnist/data/\", one_hot=True)"
   ]
  },
  {
   "cell_type": "code",
   "execution_count": 2,
   "metadata": {
    "collapsed": true
   },
   "outputs": [],
   "source": [
    "total_epoch = 100\n",
    "batch_size = 100\n",
    "learning_rate = 0.0002\n",
    "n_hidden = 256\n",
    "n_input = 28*28\n",
    "n_noise = 128 # 생성자의 입력값으로 사용할 노이즈의 크기"
   ]
  },
  {
   "cell_type": "code",
   "execution_count": 3,
   "metadata": {
    "collapsed": true
   },
   "outputs": [],
   "source": [
    "# GAN은 비지도 학습이므로 Y를 사용하지 않는다.\n",
    "# 구분자에 넣을 이미지가 실제 이미지와 생성한 가짜 이미지 두 개이고, 가짜 이미지는 노이즈에서 생성할 것이므로 Z는 노이즈를 입력받음.\n",
    "X = tf.placeholder(tf.float32, [None, n_input])\n",
    "Z = tf.placeholder(tf.float32, [None, n_noise]) "
   ]
  },
  {
   "cell_type": "markdown",
   "metadata": {},
   "source": [
    "### 생성자 신경망\n",
    "\n",
    "생성자는 무작위로 생성한 노이즈를 받아 가중치와 편향을 반영하여 은닉층을 만들고 은닉층에서 실제 이미지와 같은 크기의 결과값을 출력한다"
   ]
  },
  {
   "cell_type": "code",
   "execution_count": 4,
   "metadata": {
    "collapsed": true
   },
   "outputs": [],
   "source": [
    "# 은닉층으로 출력하기 위한 가중치와 편향\n",
    "G_W1 = tf.Variable(tf.random_normal([n_noise, n_hidden], stddev=0.01))\n",
    "G_b1 = tf.Variable(tf.zeros([n_hidden]))\n",
    "\n",
    "# 출력층에 사용할 가중치와 편향 - 실제 이미지의 크기와 같아야 한다(28*28)\n",
    "G_W2 = tf.Variable(tf.random_normal([n_hidden, n_input], stddev=0.01))\n",
    "G_b2 = tf.Variable(tf.zeros([n_input]))"
   ]
  },
  {
   "cell_type": "code",
   "execution_count": 5,
   "metadata": {
    "collapsed": true
   },
   "outputs": [],
   "source": [
    "def generator(noise_z):\n",
    "    hidden = tf.nn.relu(tf.matmul(noise_z, G_W1) + G_b1)\n",
    "    output = tf.nn.sigmoid(tf.matmul(hidden, G_W2) + G_b2)\n",
    "    return output"
   ]
  },
  {
   "cell_type": "markdown",
   "metadata": {},
   "source": [
    "### 구분자 신경망\n",
    "\n",
    "0~1 사이의 스칼라값 하나를 출력하기 위해 활성화 함수로 sigmoid 함수 사용"
   ]
  },
  {
   "cell_type": "code",
   "execution_count": 6,
   "metadata": {
    "collapsed": true
   },
   "outputs": [],
   "source": [
    "# 구분자는 진짜와 얼마나 가까운가를 판단하는 값으로 0~1 사이의 값을 출력한다(스칼라)\n",
    "D_W1 = tf.Variable(tf.random_normal([n_input, n_hidden], stddev=0.01))\n",
    "D_b1 = tf.Variable(tf.zeros([n_hidden]))\n",
    "D_W2 = tf.Variable(tf.random_normal([n_hidden, 1], stddev=0.01))\n",
    "D_b2 = tf.Variable(tf.zeros([1])) # 스칼라"
   ]
  },
  {
   "cell_type": "code",
   "execution_count": 7,
   "metadata": {
    "collapsed": true
   },
   "outputs": [],
   "source": [
    "def discriminator(inputs):\n",
    "    hidden = tf.nn.relu(tf.matmul(inputs, D_W1) + D_b1)\n",
    "    output = tf.nn.sigmoid(tf.matmul(hidden, D_W2) + D_b2)\n",
    "    return output"
   ]
  },
  {
   "cell_type": "code",
   "execution_count": null,
   "metadata": {
    "collapsed": true
   },
   "outputs": [],
   "source": []
  },
  {
   "cell_type": "code",
   "execution_count": 8,
   "metadata": {
    "collapsed": true
   },
   "outputs": [],
   "source": [
    "# 노이즈 생성 함수\n",
    "def get_noise(batch_size, n_noise):\n",
    "    return np.random.normal(size=(batch_size, n_noise))"
   ]
  },
  {
   "cell_type": "code",
   "execution_count": 9,
   "metadata": {
    "collapsed": true
   },
   "outputs": [],
   "source": [
    "# 노이즈 Z를 이용해 가짜 이미지를 만들 생성자 G를 만들고, \n",
    "# G가 만든 가짜 이미지와 진짜 이미지 X를 각각 구분자에 넣어 입력한 이미지가 진짜인지 판별한다\n",
    "G = generator(Z)\n",
    "D_gene = discriminator(G)\n",
    "D_real = discriminator(X)"
   ]
  },
  {
   "cell_type": "markdown",
   "metadata": {},
   "source": [
    "### Loss Function\n",
    "\n",
    "생성자가 만든 이미지를 구분자가 가짜라고 판단하도록 하는 손실값과 진짜라고 판단하도록 하는 손실값을 구해야 한다.\n",
    "\n",
    "진짜 이미지 판별값 D_real은 1에 가까워야 하고(진짜라고 판별), 가짜 이미지 판별값 D_gene는 0에 가까워야 한다(가짜라고 판별)"
   ]
  },
  {
   "cell_type": "code",
   "execution_count": 10,
   "metadata": {
    "collapsed": true
   },
   "outputs": [],
   "source": [
    "# D_real과 1에서 D_gene를 뺀 값을 더한 값을 손실값으로 하여 이 값을 최대화\n",
    "loss_D = tf.reduce_mean(tf.log(D_real) + tf.log(1 - D_gene))\n",
    "\n",
    "# 가짜 이미지 판별값 D_gene를 1에 가깝게 만듬(가짜 이미지를 넣어도 진짜같다고 판별)\n",
    "loss_G = tf.reduce_mean(tf.log(D_gene))"
   ]
  },
  {
   "cell_type": "markdown",
   "metadata": {},
   "source": [
    "* GAN의 학습은 loss_D와 loss_G 모두를 최대화하는 것이다. loss_D가 증가하려면 loss_G는 하락해야 하고, loss_G가 증가하려면 loss_D가 하락해야 하는 등 경쟁 관계로 서로 연관되어 있기 때문에 두 손실값이 항상 같이 증가하는 경향을 보이지는 않는다."
   ]
  },
  {
   "cell_type": "markdown",
   "metadata": {},
   "source": [
    "### Training"
   ]
  },
  {
   "cell_type": "code",
   "execution_count": 11,
   "metadata": {
    "collapsed": true
   },
   "outputs": [],
   "source": [
    "D_var_list = [D_W1, D_b1, D_W2, D_b2]\n",
    "G_var_list = [G_W1, G_b1, G_W2, G_b2]"
   ]
  },
  {
   "cell_type": "code",
   "execution_count": 12,
   "metadata": {},
   "outputs": [],
   "source": [
    "# loss를 최대화하기 위해 minimize한 값에 마이너스를 붙여 최적화한다.\n",
    "train_D = tf.train.AdamOptimizer(learning_rate).minimize(-loss_D, var_list=D_var_list)\n",
    "train_G = tf.train.AdamOptimizer(learning_rate).minimize(-loss_G, var_list=G_var_list)"
   ]
  },
  {
   "cell_type": "code",
   "execution_count": 13,
   "metadata": {
    "collapsed": true
   },
   "outputs": [],
   "source": [
    "sess = tf.Session()\n",
    "sess.run(tf.global_variables_initializer())\n",
    "\n",
    "total_batch = int(mnist.train.num_examples / batch_size)\n",
    "loss_val_D, loss_val_G = 0,0"
   ]
  },
  {
   "cell_type": "code",
   "execution_count": 14,
   "metadata": {
    "collapsed": true
   },
   "outputs": [],
   "source": [
    "import os\n",
    "\n",
    "directory = 'samples' # 결과 저장할 디렉토리\n",
    "if not os.path.exists(directory):\n",
    "    os.makedirs(directory)"
   ]
  },
  {
   "cell_type": "code",
   "execution_count": 15,
   "metadata": {},
   "outputs": [
    {
     "name": "stdout",
     "output_type": "stream",
     "text": [
      "Epoch: 0000 D loss: -0.5789 G loss: 0.0000\n",
      "Epoch: 0001 D loss: -0.2375 G loss: 0.0000\n",
      "Epoch: 0002 D loss: -0.1497 G loss: 0.0000\n",
      "Epoch: 0003 D loss: -0.4627 G loss: 0.0000\n",
      "Epoch: 0004 D loss: -0.3646 G loss: 0.0000\n",
      "Epoch: 0005 D loss: -0.3677 G loss: 0.0000\n",
      "Epoch: 0006 D loss: -0.4504 G loss: 0.0000\n",
      "Epoch: 0007 D loss: -0.5881 G loss: 0.0000\n",
      "Epoch: 0008 D loss: -0.2394 G loss: 0.0000\n",
      "Epoch: 0009 D loss: -0.5208 G loss: 0.0000\n",
      "Epoch: 0010 D loss: -0.4454 G loss: 0.0000\n",
      "Epoch: 0011 D loss: -0.4954 G loss: 0.0000\n",
      "Epoch: 0012 D loss: -0.3910 G loss: 0.0000\n",
      "Epoch: 0013 D loss: -0.3526 G loss: 0.0000\n",
      "Epoch: 0014 D loss: -0.4034 G loss: 0.0000\n",
      "Epoch: 0015 D loss: -0.3961 G loss: 0.0000\n",
      "Epoch: 0016 D loss: -0.4424 G loss: 0.0000\n",
      "Epoch: 0017 D loss: -0.4683 G loss: 0.0000\n",
      "Epoch: 0018 D loss: -0.3831 G loss: 0.0000\n",
      "Epoch: 0019 D loss: -0.3999 G loss: 0.0000\n",
      "Epoch: 0020 D loss: -0.4470 G loss: 0.0000\n",
      "Epoch: 0021 D loss: -0.5189 G loss: 0.0000\n",
      "Epoch: 0022 D loss: -0.4113 G loss: 0.0000\n",
      "Epoch: 0023 D loss: -0.3426 G loss: 0.0000\n",
      "Epoch: 0024 D loss: -0.3736 G loss: 0.0000\n",
      "Epoch: 0025 D loss: -0.4174 G loss: 0.0000\n",
      "Epoch: 0026 D loss: -0.5390 G loss: 0.0000\n",
      "Epoch: 0027 D loss: -0.4712 G loss: 0.0000\n",
      "Epoch: 0028 D loss: -0.5791 G loss: 0.0000\n",
      "Epoch: 0029 D loss: -0.3834 G loss: 0.0000\n",
      "Epoch: 0030 D loss: -0.3715 G loss: 0.0000\n",
      "Epoch: 0031 D loss: -0.5283 G loss: 0.0000\n",
      "Epoch: 0032 D loss: -0.4846 G loss: 0.0000\n",
      "Epoch: 0033 D loss: -0.4550 G loss: 0.0000\n",
      "Epoch: 0034 D loss: -0.5242 G loss: 0.0000\n",
      "Epoch: 0035 D loss: -0.4801 G loss: 0.0000\n",
      "Epoch: 0036 D loss: -0.6021 G loss: 0.0000\n",
      "Epoch: 0037 D loss: -0.4652 G loss: 0.0000\n",
      "Epoch: 0038 D loss: -0.5459 G loss: 0.0000\n",
      "Epoch: 0039 D loss: -0.5746 G loss: 0.0000\n",
      "Epoch: 0040 D loss: -0.5021 G loss: 0.0000\n",
      "Epoch: 0041 D loss: -0.5759 G loss: 0.0000\n",
      "Epoch: 0042 D loss: -0.5538 G loss: 0.0000\n",
      "Epoch: 0043 D loss: -0.5244 G loss: 0.0000\n",
      "Epoch: 0044 D loss: -0.6894 G loss: 0.0000\n",
      "Epoch: 0045 D loss: -0.5520 G loss: 0.0000\n",
      "Epoch: 0046 D loss: -0.6534 G loss: 0.0000\n",
      "Epoch: 0047 D loss: -0.6374 G loss: 0.0000\n",
      "Epoch: 0048 D loss: -0.6692 G loss: 0.0000\n",
      "Epoch: 0049 D loss: -0.5221 G loss: 0.0000\n",
      "Epoch: 0050 D loss: -0.7504 G loss: 0.0000\n",
      "Epoch: 0051 D loss: -0.7457 G loss: 0.0000\n",
      "Epoch: 0052 D loss: -0.7997 G loss: 0.0000\n",
      "Epoch: 0053 D loss: -0.8467 G loss: 0.0000\n",
      "Epoch: 0054 D loss: -0.8544 G loss: 0.0000\n",
      "Epoch: 0055 D loss: -0.8141 G loss: 0.0000\n",
      "Epoch: 0056 D loss: -0.6798 G loss: 0.0000\n",
      "Epoch: 0057 D loss: -0.6997 G loss: 0.0000\n",
      "Epoch: 0058 D loss: -0.6837 G loss: 0.0000\n",
      "Epoch: 0059 D loss: -0.7734 G loss: 0.0000\n",
      "Epoch: 0060 D loss: -0.8510 G loss: 0.0000\n",
      "Epoch: 0061 D loss: -0.7738 G loss: 0.0000\n",
      "Epoch: 0062 D loss: -0.7374 G loss: 0.0000\n",
      "Epoch: 0063 D loss: -0.8380 G loss: 0.0000\n",
      "Epoch: 0064 D loss: -0.6482 G loss: 0.0000\n",
      "Epoch: 0065 D loss: -0.9655 G loss: 0.0000\n",
      "Epoch: 0066 D loss: -0.7799 G loss: 0.0000\n",
      "Epoch: 0067 D loss: -0.6115 G loss: 0.0000\n",
      "Epoch: 0068 D loss: -1.0373 G loss: 0.0000\n",
      "Epoch: 0069 D loss: -0.8992 G loss: 0.0000\n",
      "Epoch: 0070 D loss: -0.7036 G loss: 0.0000\n",
      "Epoch: 0071 D loss: -0.7476 G loss: 0.0000\n",
      "Epoch: 0072 D loss: -0.7522 G loss: 0.0000\n",
      "Epoch: 0073 D loss: -0.8094 G loss: 0.0000\n",
      "Epoch: 0074 D loss: -0.7511 G loss: 0.0000\n",
      "Epoch: 0075 D loss: -0.7629 G loss: 0.0000\n",
      "Epoch: 0076 D loss: -0.9859 G loss: 0.0000\n",
      "Epoch: 0077 D loss: -0.9678 G loss: 0.0000\n",
      "Epoch: 0078 D loss: -0.9392 G loss: 0.0000\n",
      "Epoch: 0079 D loss: -0.8070 G loss: 0.0000\n",
      "Epoch: 0080 D loss: -1.0353 G loss: 0.0000\n",
      "Epoch: 0081 D loss: -1.0176 G loss: 0.0000\n",
      "Epoch: 0082 D loss: -0.8104 G loss: 0.0000\n",
      "Epoch: 0083 D loss: -0.8665 G loss: 0.0000\n",
      "Epoch: 0084 D loss: -0.7622 G loss: 0.0000\n",
      "Epoch: 0085 D loss: -0.7474 G loss: 0.0000\n",
      "Epoch: 0086 D loss: -0.6724 G loss: 0.0000\n",
      "Epoch: 0087 D loss: -0.8039 G loss: 0.0000\n",
      "Epoch: 0088 D loss: -0.8503 G loss: 0.0000\n",
      "Epoch: 0089 D loss: -0.8976 G loss: 0.0000\n",
      "Epoch: 0090 D loss: -0.7560 G loss: 0.0000\n",
      "Epoch: 0091 D loss: -0.9612 G loss: 0.0000\n",
      "Epoch: 0092 D loss: -0.7352 G loss: 0.0000\n",
      "Epoch: 0093 D loss: -0.8438 G loss: 0.0000\n",
      "Epoch: 0094 D loss: -1.0056 G loss: 0.0000\n",
      "Epoch: 0095 D loss: -0.8299 G loss: 0.0000\n",
      "Epoch: 0096 D loss: -0.7552 G loss: 0.0000\n",
      "Epoch: 0097 D loss: -0.8181 G loss: 0.0000\n",
      "Epoch: 0098 D loss: -0.8261 G loss: 0.0000\n",
      "Epoch: 0099 D loss: -0.7388 G loss: 0.0000\n"
     ]
    }
   ],
   "source": [
    "for epoch in range(total_epoch):\n",
    "    for i in range(total_batch):\n",
    "        batch_xs, batch_ys = mnist.train.next_batch(batch_size)\n",
    "        \n",
    "        # 배치 크기만큼 노이즈를 만들어서 생성자의 입력값으로\n",
    "        noise = get_noise(batch_size, n_noise)\n",
    "        \n",
    "        _, loss_val_D = sess.run([train_D, loss_D], feed_dict={X: batch_xs, Z: noise}) # 구분자는 X 값을 받는다\n",
    "        _, loaa_val_G = sess.run([train_G, loss_G], feed_dict={Z: noise}) # 생성자는 노이즈Z 값을 받는다\n",
    "        \n",
    "    print('Epoch:', '%04d' % epoch, 'D loss: {:.4f}'.format(loss_val_D), 'G loss: {:.4f}'.format(loss_val_G))\n",
    "    \n",
    "    if epoch == 0 or (epoch + 1) % 10 == 0:\n",
    "        sample_size = 10\n",
    "        noise = get_noise(sample_size, n_noise)\n",
    "        samples = sess.run(G, feed_dict={Z: noise})\n",
    "\n",
    "        # 28*28 크기의 가짜 이미지로 만들어 samples 폴더에 저장\n",
    "        fig, ax = plt.subplots(1, sample_size, figsize=(sample_size, 1))\n",
    "\n",
    "        for i in range(sample_size):\n",
    "            ax[i].set_axis_off()\n",
    "            ax[i].imshow(np.reshape(samples[i], (28, 28)))\n",
    "\n",
    "        plt.savefig('samples/{}.png'.format(str(epoch).zfill(3)), bbox_inches='tight')\n",
    "        plt.close(fig)"
   ]
  },
  {
   "cell_type": "code",
   "execution_count": null,
   "metadata": {
    "collapsed": true
   },
   "outputs": [],
   "source": []
  },
  {
   "cell_type": "code",
   "execution_count": null,
   "metadata": {
    "collapsed": true
   },
   "outputs": [],
   "source": []
  }
 ],
 "metadata": {
  "kernelspec": {
   "display_name": "Python 3",
   "language": "python",
   "name": "python3"
  },
  "language_info": {
   "codemirror_mode": {
    "name": "ipython",
    "version": 3
   },
   "file_extension": ".py",
   "mimetype": "text/x-python",
   "name": "python",
   "nbconvert_exporter": "python",
   "pygments_lexer": "ipython3",
   "version": "3.6.2"
  }
 },
 "nbformat": 4,
 "nbformat_minor": 2
}
