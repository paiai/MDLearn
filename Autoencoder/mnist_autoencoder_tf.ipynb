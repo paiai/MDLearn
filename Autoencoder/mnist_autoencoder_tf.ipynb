{
 "cells": [
  {
   "cell_type": "code",
   "execution_count": 1,
   "metadata": {},
   "outputs": [
    {
     "name": "stdout",
     "output_type": "stream",
     "text": [
      "Successfully downloaded train-images-idx3-ubyte.gz 9912422 bytes.\n",
      "Extracting ./mnist/data/train-images-idx3-ubyte.gz\n",
      "Successfully downloaded train-labels-idx1-ubyte.gz 28881 bytes.\n",
      "Extracting ./mnist/data/train-labels-idx1-ubyte.gz\n",
      "Successfully downloaded t10k-images-idx3-ubyte.gz 1648877 bytes.\n",
      "Extracting ./mnist/data/t10k-images-idx3-ubyte.gz\n",
      "Successfully downloaded t10k-labels-idx1-ubyte.gz 4542 bytes.\n",
      "Extracting ./mnist/data/t10k-labels-idx1-ubyte.gz\n"
     ]
    }
   ],
   "source": [
    "import tensorflow as tf\n",
    "import numpy as np\n",
    "import matplotlib.pyplot as plt\n",
    "\n",
    "from tensorflow.examples.tutorials.mnist import input_data\n",
    "mnist = input_data.read_data_sets(\"./mnist/data/\", one_hot=True)"
   ]
  },
  {
   "cell_type": "code",
   "execution_count": 14,
   "metadata": {
    "collapsed": true
   },
   "outputs": [],
   "source": [
    "learning_rate = 0.01\n",
    "training_epoch = 100\n",
    "batch_size = 100\n",
    "n_hidden = 256 # 은닉층의 뉴런 개수\n",
    "n_input = 28*28 # MNIST 이미지 크기가 28*28"
   ]
  },
  {
   "cell_type": "code",
   "execution_count": 15,
   "metadata": {
    "collapsed": true
   },
   "outputs": [],
   "source": [
    "#  비지도 학습이므로 Y값이 없다\n",
    "X = tf.placeholder(tf.float32, [None, n_input])"
   ]
  },
  {
   "cell_type": "markdown",
   "metadata": {},
   "source": [
    "## 인코더"
   ]
  },
  {
   "cell_type": "code",
   "execution_count": 16,
   "metadata": {
    "collapsed": true
   },
   "outputs": [],
   "source": [
    "# n_hidden 개의 뉴런을 가진 은닉층을 생성한다. \n",
    "# n_input값보다 n_hidden값이 더 작다 => 입력값을 압축하고 노이즈를 제거하면서 입력값의 특징을 찾음\n",
    "W_encode = tf.Variable(tf.random_normal([n_input, n_hidden]))\n",
    "b_encode = tf.Variable(tf.random_normal([n_hidden]))\n",
    "\n",
    "encoder = tf.nn.sigmoid(tf.add(tf.matmul(X, W_encode), b_encode))"
   ]
  },
  {
   "cell_type": "markdown",
   "metadata": {},
   "source": [
    "## 디코더"
   ]
  },
  {
   "cell_type": "code",
   "execution_count": 17,
   "metadata": {
    "collapsed": true
   },
   "outputs": [],
   "source": [
    "# 입력값을 은닉층의 크기로, 출력값을 입력층의 크기로 만든다\n",
    "W_decode = tf.Variable(tf.random_normal([n_hidden, n_input]))\n",
    "b_decode = tf.Variable(tf.random_normal([n_input]))\n",
    "\n",
    "decoder = tf.nn.sigmoid(tf.add(tf.matmul(encoder, W_decode), b_decode))"
   ]
  },
  {
   "cell_type": "markdown",
   "metadata": {},
   "source": [
    "## Loss Function"
   ]
  },
  {
   "cell_type": "code",
   "execution_count": 18,
   "metadata": {
    "collapsed": true
   },
   "outputs": [],
   "source": [
    "cost = tf.reduce_mean(tf.pow(X - decoder, 2))"
   ]
  },
  {
   "cell_type": "code",
   "execution_count": 19,
   "metadata": {
    "collapsed": true
   },
   "outputs": [],
   "source": [
    "optimizer = tf.train.RMSPropOptimizer(learning_rate).minimize(cost)"
   ]
  },
  {
   "cell_type": "markdown",
   "metadata": {},
   "source": [
    "## Training"
   ]
  },
  {
   "cell_type": "code",
   "execution_count": 20,
   "metadata": {},
   "outputs": [
    {
     "name": "stdout",
     "output_type": "stream",
     "text": [
      "Epoch:  0001 Avg. cost= 0.194241\n",
      "Epoch:  0002 Avg. cost= 0.050588\n",
      "Epoch:  0003 Avg. cost= 0.040788\n",
      "Epoch:  0004 Avg. cost= 0.036433\n",
      "Epoch:  0005 Avg. cost= 0.033449\n",
      "Epoch:  0006 Avg. cost= 0.031899\n",
      "Epoch:  0007 Avg. cost= 0.031014\n",
      "Epoch:  0008 Avg. cost= 0.030113\n",
      "Epoch:  0009 Avg. cost= 0.029433\n",
      "Epoch:  0010 Avg. cost= 0.029044\n",
      "Epoch:  0011 Avg. cost= 0.028307\n",
      "Epoch:  0012 Avg. cost= 0.027994\n",
      "Epoch:  0013 Avg. cost= 0.027601\n",
      "Epoch:  0014 Avg. cost= 0.027401\n",
      "Epoch:  0015 Avg. cost= 0.027254\n",
      "Epoch:  0016 Avg. cost= 0.027026\n",
      "Epoch:  0017 Avg. cost= 0.026894\n",
      "Epoch:  0018 Avg. cost= 0.026773\n",
      "Epoch:  0019 Avg. cost= 0.025729\n",
      "Epoch:  0020 Avg. cost= 0.024821\n",
      "Epoch:  0021 Avg. cost= 0.024459\n",
      "Epoch:  0022 Avg. cost= 0.024143\n",
      "Epoch:  0023 Avg. cost= 0.022937\n",
      "Epoch:  0024 Avg. cost= 0.022638\n",
      "Epoch:  0025 Avg. cost= 0.022528\n",
      "Epoch:  0026 Avg. cost= 0.022404\n",
      "Epoch:  0027 Avg. cost= 0.022322\n",
      "Epoch:  0028 Avg. cost= 0.022249\n",
      "Epoch:  0029 Avg. cost= 0.022194\n",
      "Epoch:  0030 Avg. cost= 0.021976\n",
      "Epoch:  0031 Avg. cost= 0.021713\n",
      "Epoch:  0032 Avg. cost= 0.021612\n",
      "Epoch:  0033 Avg. cost= 0.021532\n",
      "Epoch:  0034 Avg. cost= 0.021495\n",
      "Epoch:  0035 Avg. cost= 0.021441\n",
      "Epoch:  0036 Avg. cost= 0.021410\n",
      "Epoch:  0037 Avg. cost= 0.021359\n",
      "Epoch:  0038 Avg. cost= 0.021321\n",
      "Epoch:  0039 Avg. cost= 0.021244\n",
      "Epoch:  0040 Avg. cost= 0.021147\n",
      "Epoch:  0041 Avg. cost= 0.021083\n",
      "Epoch:  0042 Avg. cost= 0.021020\n",
      "Epoch:  0043 Avg. cost= 0.020946\n",
      "Epoch:  0044 Avg. cost= 0.020898\n",
      "Epoch:  0045 Avg. cost= 0.020859\n",
      "Epoch:  0046 Avg. cost= 0.020793\n",
      "Epoch:  0047 Avg. cost= 0.020754\n",
      "Epoch:  0048 Avg. cost= 0.020690\n",
      "Epoch:  0049 Avg. cost= 0.020654\n",
      "Epoch:  0050 Avg. cost= 0.020620\n",
      "Epoch:  0051 Avg. cost= 0.020575\n",
      "Epoch:  0052 Avg. cost= 0.020526\n",
      "Epoch:  0053 Avg. cost= 0.020493\n",
      "Epoch:  0054 Avg. cost= 0.020461\n",
      "Epoch:  0055 Avg. cost= 0.020432\n",
      "Epoch:  0056 Avg. cost= 0.020392\n",
      "Epoch:  0057 Avg. cost= 0.020370\n",
      "Epoch:  0058 Avg. cost= 0.020328\n",
      "Epoch:  0059 Avg. cost= 0.020307\n",
      "Epoch:  0060 Avg. cost= 0.020300\n",
      "Epoch:  0061 Avg. cost= 0.020269\n",
      "Epoch:  0062 Avg. cost= 0.020249\n",
      "Epoch:  0063 Avg. cost= 0.020223\n",
      "Epoch:  0064 Avg. cost= 0.020195\n",
      "Epoch:  0065 Avg. cost= 0.020169\n",
      "Epoch:  0066 Avg. cost= 0.020135\n",
      "Epoch:  0067 Avg. cost= 0.020127\n",
      "Epoch:  0068 Avg. cost= 0.020076\n",
      "Epoch:  0069 Avg. cost= 0.020065\n",
      "Epoch:  0070 Avg. cost= 0.020056\n",
      "Epoch:  0071 Avg. cost= 0.020026\n",
      "Epoch:  0072 Avg. cost= 0.019998\n",
      "Epoch:  0073 Avg. cost= 0.019993\n",
      "Epoch:  0074 Avg. cost= 0.019949\n",
      "Epoch:  0075 Avg. cost= 0.019941\n",
      "Epoch:  0076 Avg. cost= 0.019925\n",
      "Epoch:  0077 Avg. cost= 0.019901\n",
      "Epoch:  0078 Avg. cost= 0.019815\n",
      "Epoch:  0079 Avg. cost= 0.019776\n",
      "Epoch:  0080 Avg. cost= 0.019756\n",
      "Epoch:  0081 Avg. cost= 0.019731\n",
      "Epoch:  0082 Avg. cost= 0.019729\n",
      "Epoch:  0083 Avg. cost= 0.019719\n",
      "Epoch:  0084 Avg. cost= 0.019684\n",
      "Epoch:  0085 Avg. cost= 0.019680\n",
      "Epoch:  0086 Avg. cost= 0.019668\n",
      "Epoch:  0087 Avg. cost= 0.019642\n",
      "Epoch:  0088 Avg. cost= 0.019628\n",
      "Epoch:  0089 Avg. cost= 0.019628\n",
      "Epoch:  0090 Avg. cost= 0.019602\n",
      "Epoch:  0091 Avg. cost= 0.019601\n",
      "Epoch:  0092 Avg. cost= 0.019563\n",
      "Epoch:  0093 Avg. cost= 0.019568\n",
      "Epoch:  0094 Avg. cost= 0.019528\n",
      "Epoch:  0095 Avg. cost= 0.019461\n",
      "Epoch:  0096 Avg. cost= 0.019432\n",
      "Epoch:  0097 Avg. cost= 0.019419\n",
      "Epoch:  0098 Avg. cost= 0.019409\n",
      "Epoch:  0099 Avg. cost= 0.019401\n",
      "Epoch:  0100 Avg. cost= 0.019389\n"
     ]
    }
   ],
   "source": [
    "init = tf.global_variables_initializer()\n",
    "sess = tf.Session()\n",
    "sess.run(init)\n",
    "\n",
    "total_batch = int(mnist.train.num_examples / batch_size)\n",
    "\n",
    "for epoch in range(training_epoch):\n",
    "    total_cost = 0\n",
    "    \n",
    "    for i in range(total_batch):\n",
    "        batch_xs, batch_ys = mnist.train.next_batch(batch_size)\n",
    "        _, cost_val = sess.run([optimizer, cost], feed_dict={X: batch_xs})\n",
    "        total_cost += cost_val\n",
    "    \n",
    "    print('Epoch: ', '%04d' % (epoch + 1), 'Avg. cost=', '{:4f}'.format(total_cost / total_batch))"
   ]
  },
  {
   "cell_type": "code",
   "execution_count": 21,
   "metadata": {
    "collapsed": true
   },
   "outputs": [],
   "source": [
    "# 디코더로 생성해낸 결과를 이미지로 출력\n",
    "sample_size = 10\n",
    "\n",
    "samples = sess.run(decoder, feed_dict={X: mnist.test.images[:sample_size]})"
   ]
  },
  {
   "cell_type": "code",
   "execution_count": 22,
   "metadata": {},
   "outputs": [
    {
     "data": {
      "image/png": "[encoded data removed]",
      "text/plain": [
       "<matplotlib.figure.Figure at 0x11612d358>"
      ]
     },
     "metadata": {},
     "output_type": "display_data"
    }
   ],
   "source": [
    "fig, ax = plt.subplots(2, sample_size, figsize=(sample_size, 2))\n",
    "\n",
    "for i in range(sample_size):\n",
    "    ax[0][i].set_axis_off()\n",
    "    ax[1][i].set_axis_off()\n",
    "    ax[0][i].imshow(np.reshape(mnist.test.images[i], (28, 28))) # 원본\n",
    "    ax[1][i].imshow(np.reshape(samples[i], (28, 28))) # 신경망이 생성한 이미지\n",
    "\n",
    "plt.show()"
   ]
  },
  {
   "cell_type": "code",
   "execution_count": null,
   "metadata": {
    "collapsed": true
   },
   "outputs": [],
   "source": []
  }
 ],
 "metadata": {
  "kernelspec": {
   "display_name": "Python 3",
   "language": "python",
   "name": "python3"
  },
  "language_info": {
   "codemirror_mode": {
    "name": "ipython",
    "version": 3
   },
   "file_extension": ".py",
   "mimetype": "text/x-python",
   "name": "python",
   "nbconvert_exporter": "python",
   "pygments_lexer": "ipython3",
   "version": "3.6.2"
  }
 },
 "nbformat": 4,
 "nbformat_minor": 2
}
